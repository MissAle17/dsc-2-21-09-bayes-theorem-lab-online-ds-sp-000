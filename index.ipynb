{
 "cells": [
  {
   "cell_type": "markdown",
   "metadata": {},
   "source": [
    "# Bayes' Theorem - Lab\n",
    "\n",
    "## Introduction\n",
    "\n",
    "In this lab, we shall try to put some of the formulas to practice that we came across with in the previous lesson. \n",
    "\n",
    "## Objectives\n",
    "* Understand and describe the Bayesian theorem from conditional probabilities\n",
    "* Describe the roles of Prior, Likehood and Posterior components of Bayes Theorem \n",
    "* Understand and perform simple applications of Bayes Theorem for sensitivity and specificity\n",
    "\n",
    "## Exercise 1\n",
    "### If a single card is drawn from a standard deck of playing cards, What is the probability of seeing a king ?"
   ]
  },
  {
   "cell_type": "code",
   "execution_count": 2,
   "metadata": {},
   "outputs": [
    {
     "data": {
      "text/plain": [
       "0.07692307692307693"
      ]
     },
     "execution_count": 2,
     "metadata": {},
     "output_type": "execute_result"
    }
   ],
   "source": [
    "# Your solution\n",
    "P_king = 4/52\n",
    "P_king"
   ]
  },
  {
   "cell_type": "markdown",
   "metadata": {},
   "source": [
    "### If evidence is provided (for instance, someone looks at the card) that the single card is a **face card**, what would be the posterior probability according to Bayes theorem?"
   ]
  },
  {
   "cell_type": "code",
   "execution_count": 6,
   "metadata": {},
   "outputs": [
    {
     "data": {
      "text/plain": [
       "0.3333333333333333"
      ]
     },
     "execution_count": 6,
     "metadata": {},
     "output_type": "execute_result"
    }
   ],
   "source": [
    "# Your Solution\n",
    "# The posterior probability P(king|Face)can be calculated using Bayes' theorem as\n",
    "\n",
    "# P(king|face) = P(face|king)P(king) / P(face)\n",
    "\n",
    "#and all kings are face cards \n",
    "#finally there are 3 face cards in each of 4 suits\n",
    "\n",
    "P_face_given_king = 1\n",
    "P_face = (4*3)/52\n",
    "\n",
    "\n",
    "P_king_given_face = P_king*P_face_given_king/P_face\n",
    "\n",
    "P_king_given_face"
   ]
  },
  {
   "cell_type": "markdown",
   "metadata": {},
   "source": [
    "## Exercise 2\n",
    "#### 1. A couple has two children, the older of which is a boy. What is the probability that they have two boys?\n",
    "#### 2. A couple has two children, one of which is a boy. What is the probability that they have two boys?"
   ]
  },
  {
   "cell_type": "code",
   "execution_count": 3,
   "metadata": {},
   "outputs": [],
   "source": [
    "# Explain events as:\n",
    "# A = both children are boys\n",
    "# B = older child is a boy \n",
    "# C = One of the children is a boy "
   ]
  },
  {
   "cell_type": "code",
   "execution_count": 11,
   "metadata": {},
   "outputs": [
    {
     "data": {
      "text/plain": [
       "0.5"
      ]
     },
     "execution_count": 11,
     "metadata": {},
     "output_type": "execute_result"
    }
   ],
   "source": [
    "# Part 1\n",
    "# Your solution\n",
    "#O is the older child who is a boy\n",
    "#Y is the younger child who is either a boy or a girl\n",
    "#we want to know given O=boy, what is the probability that y is also a boy\n",
    "\n",
    "p_y = 1/4\n",
    "p_o = 1/2\n",
    "p_o_given_y = 1\n",
    "\n",
    "\n",
    "P_y_given_o = p_y*p_o_given_y/p_o\n",
    "P_y_given_o"
   ]
  },
  {
   "cell_type": "code",
   "execution_count": 16,
   "metadata": {},
   "outputs": [
    {
     "data": {
      "text/plain": [
       "0.3333333333333333"
      ]
     },
     "execution_count": 16,
     "metadata": {},
     "output_type": "execute_result"
    }
   ],
   "source": [
    "# Part 2 \n",
    "# Your solution\n",
    "#this is the probability that both are boys which is 1-probabiity that both are girls\n",
    "p_b = 1 - 1/4\n",
    "p_b_given_y = 1\n",
    "\n",
    "p_y_given_b = p_b_given_y*p_y/p_b\n",
    "p_y_given_b"
   ]
  },
  {
   "cell_type": "markdown",
   "metadata": {},
   "source": [
    "## Exercise 3 - Bayesian Disease Diagnosis\n",
    "\n",
    "[Visit this link for an insight into Bayesian Disease Daignosis](http://doingbayesiandataanalysis.blogspot.com/2013/01/bayesian-disease-diagnosis-with.html)\n",
    "\n"
   ]
  },
  {
   "cell_type": "markdown",
   "metadata": {},
   "source": [
    "A disease test is advertised as being 99% accurate \n",
    "\n",
    "* If a patient has the disease,they  will test positive 99% of the time.\n",
    "\n",
    "* If you don't have the disease, they will test negative 99% of the time. \n",
    "\n",
    "* 1% of all people have this disease \n",
    "\n",
    "#### Now a patient tests positive, what is the probability that you actually have the disease?"
   ]
  },
  {
   "cell_type": "code",
   "execution_count": 19,
   "metadata": {},
   "outputs": [
    {
     "data": {
      "text/plain": [
       "0.5"
      ]
     },
     "execution_count": 19,
     "metadata": {},
     "output_type": "execute_result"
    }
   ],
   "source": [
    "# Your solution\n",
    "\n",
    "#P(D) = .01\n",
    "#P(Pos|D)=.99\n",
    "#P(notPos|notD = .99) therefore P(Pos|notD)=.01\n",
    "#P(notD)=.99\n",
    "#given that a patient tested positive, what is the probability they have the disease\n",
    "\n",
    "# By Bayes' Theorem, the probability you have the disease is\n",
    "\n",
    "#P(D|Pos) = P(Pos|D)* P(D) / P(Pos) \n",
    "\n",
    "# P(Pos) is calculated as :\n",
    "# You either don't have the disease and tested incorrectly() (0.99 *0.1)\n",
    "# or you do have the disease and tested correctly (0.1*0.99)\n",
    "\n",
    "\n",
    "p_pos = (0.01*0.99) + (0.99 *0.01)\n",
    "\n",
    "p_d_given_pos = 0.99 * 0.01/p_pos\n",
    "p_d_given_pos\n",
    "\n",
    "#0.5"
   ]
  },
  {
   "cell_type": "markdown",
   "metadata": {},
   "source": []
  },
  {
   "cell_type": "markdown",
   "metadata": {},
   "source": [
    "## Summary \n",
    "\n",
    "In this lab, we saw a few simple examples of Bayesian logic and how we can add prior information to our calculation, in order to update our beliefs about the certain events. Bayesian logic works in numerous ways and it is not within the scope of this section to give you a deep dive in complex Bayesian problems. You are advised to re-visit the provided links when you have a better understanding of Bayesian inference. "
   ]
  }
 ],
 "metadata": {
  "kernelspec": {
   "display_name": "Python 3",
   "language": "python",
   "name": "python3"
  },
  "language_info": {
   "codemirror_mode": {
    "name": "ipython",
    "version": 3
   },
   "file_extension": ".py",
   "mimetype": "text/x-python",
   "name": "python",
   "nbconvert_exporter": "python",
   "pygments_lexer": "ipython3",
   "version": "3.7.0"
  }
 },
 "nbformat": 4,
 "nbformat_minor": 2
}
